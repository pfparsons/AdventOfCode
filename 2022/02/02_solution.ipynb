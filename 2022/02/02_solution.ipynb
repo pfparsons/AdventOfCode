{
 "cells": [
  {
   "cell_type": "code",
   "execution_count": 1,
   "id": "66e64473-d97c-4a12-971a-e81d8f7ac72a",
   "metadata": {},
   "outputs": [
    {
     "data": {
      "text/plain": [
       "12276"
      ]
     },
     "execution_count": 1,
     "metadata": {},
     "output_type": "execute_result"
    }
   ],
   "source": [
    "# Using R = 1, P = 2, S = 3\n",
    "# the binary concatentation of the int values\n",
    "# for the opponent (+) our choice yields a\n",
    "# monotonically increasing range starting from\n",
    "# Rock vs Rock = 5 to Scissors vs Scissors = 15\n",
    "# We exploit this by subtracting 5 from the \n",
    "# concatentation to get an index to a score table\n",
    "# for each unique combination\n",
    "lookup_offset = 5\n",
    "#            Our choice\n",
    "win_tbl = [# R  P  S  X    Opp. Choice\n",
    "             4, 8 ,3 ,0, # Rock\n",
    "             1, 5, 9, 0, # Paper\n",
    "             7, 2, 6, 0  # Scisors\n",
    "          ]\n",
    "\n",
    "def play_part_one(o,m):\n",
    "    base_index =  (o << 2) + m - lookup_offset\n",
    "    score = win_tbl[base_index]\n",
    "#    print(f\"{line_num}  {n[o]}({o}) vs {n[m]}({m}) = {score}\")\n",
    "    return score\n",
    "\n",
    "line_num = 1\n",
    "total_score = 0\n",
    "\n",
    "with open(\"input\", \"rb\") as file:\n",
    "    for line in file:\n",
    "        opp = int(line[0] - 0x40)\n",
    "        slf = int(line[2] - 0x57)\n",
    "        total_score += play_part_one(opp,slf)\n",
    "        line_num += 1\n",
    "        \n",
    "total_score       "
   ]
  },
  {
   "cell_type": "code",
   "execution_count": 3,
   "id": "77d3d73c-c321-4325-9669-525f6c642ed4",
   "metadata": {},
   "outputs": [
    {
     "data": {
      "text/plain": [
       "9975"
      ]
     },
     "execution_count": 3,
     "metadata": {},
     "output_type": "execute_result"
    }
   ],
   "source": [
    "# Same approach as above except replacing\n",
    "# Our choice with Lose, Win, and Draw\n",
    "#            Our goal\n",
    "win_tbl2 = [# L  D  W  X    Opp. Choice\n",
    "             3, 4 ,8 ,0, # Rock\n",
    "             1, 5, 9, 0, # Paper\n",
    "             2, 6, 7, 0  # Scisors\n",
    "          ]\n",
    "\n",
    "def play_part_two(o,m):\n",
    "    base_index =  (o << 2) + m - lookup_offset\n",
    "    score = win_tbl2[base_index]\n",
    "    return score\n",
    "\n",
    "total_score = 0\n",
    "\n",
    "with open(\"input\", \"rb\") as file:\n",
    "    for line in file:\n",
    "        opp = int(line[0] - 0x40)\n",
    "        slf = int(line[2] - 0x57)\n",
    "        total_score += play_part_two(opp,slf)\n",
    "        line_num += 1\n",
    "        \n",
    "total_score       "
   ]
  }
 ],
 "metadata": {
  "kernelspec": {
   "display_name": "Python 3 (ipykernel)",
   "language": "python",
   "name": "python3"
  },
  "language_info": {
   "codemirror_mode": {
    "name": "ipython",
    "version": 3
   },
   "file_extension": ".py",
   "mimetype": "text/x-python",
   "name": "python",
   "nbconvert_exporter": "python",
   "pygments_lexer": "ipython3",
   "version": "3.10.7"
  }
 },
 "nbformat": 4,
 "nbformat_minor": 5
}
